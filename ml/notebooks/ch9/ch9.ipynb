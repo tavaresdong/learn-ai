{
 "cells": [
  {
   "cell_type": "code",
   "execution_count": 5,
   "metadata": {},
   "outputs": [
    {
     "name": "stdout",
     "output_type": "stream",
     "text": [
      "42\n"
     ]
    }
   ],
   "source": [
    "import tensorflow as tf\n",
    "\n",
    "x = tf.Variable(3, name=\"x\")\n",
    "y = tf.Variable(4, name=\"y\")\n",
    "\n",
    "f = x*x*y + y + 2\n",
    "\n",
    "# The above code does no computation,\n",
    "# it only creates a computation graph\n",
    "\n",
    "# Create a session to run the computation\n",
    "sess = tf.Session()\n",
    "sess.run(x.initializer)\n",
    "sess.run(y.initializer)\n",
    "result = sess.run(f)\n",
    "print(result)\n",
    "\n",
    "sess.close()"
   ]
  },
  {
   "cell_type": "code",
   "execution_count": 6,
   "metadata": {},
   "outputs": [
    {
     "name": "stdout",
     "output_type": "stream",
     "text": [
      "42\n"
     ]
    }
   ],
   "source": [
    "# Or we can call within a with statement\n",
    "# then sess will be set as the default session\n",
    "# equivalent to calling tf.get_default_session().run(...)\n",
    "# eval() method is calledf for each node to evaluate its value\n",
    "\n",
    "with tf.Session() as sess:\n",
    "    x.initializer.run()\n",
    "    y.initializer.run()\n",
    "    result = f.eval()\n",
    "    print(result)\n",
    "\n",
    "# And the session is closed automatically at then end of the with block"
   ]
  },
  {
   "cell_type": "code",
   "execution_count": 7,
   "metadata": {},
   "outputs": [
    {
     "name": "stdout",
     "output_type": "stream",
     "text": [
      "42\n"
     ]
    }
   ],
   "source": [
    "# global_variables_initializer() method can be used to\n",
    "# initialize all variables in one pass\n",
    "\n",
    "init = tf.global_variables_initializer() # prepare an init node\n",
    "\n",
    "with tf.Session() as sess:\n",
    "    init.run()\n",
    "    print(f.eval())"
   ]
  },
  {
   "cell_type": "code",
   "execution_count": 8,
   "metadata": {},
   "outputs": [
    {
     "name": "stdout",
     "output_type": "stream",
     "text": [
      "42\n"
     ]
    }
   ],
   "source": [
    "# InteractiveSession: automatically set itself as default session\n",
    "\n",
    "sess = tf.InteractiveSession()\n",
    "init.run()\n",
    "result = f.eval()\n",
    "print(result)\n",
    "sess.close()"
   ]
  },
  {
   "cell_type": "code",
   "execution_count": 9,
   "metadata": {},
   "outputs": [
    {
     "data": {
      "text/plain": [
       "True"
      ]
     },
     "execution_count": 9,
     "metadata": {},
     "output_type": "execute_result"
    }
   ],
   "source": [
    "# 9.1 Managing Graphs\n",
    "\n",
    "# Any Node you create is automatically added to the default graph\n",
    "x1 = tf.Variable(1)\n",
    "x1.graph is tf.get_default_graph()"
   ]
  },
  {
   "cell_type": "code",
   "execution_count": 10,
   "metadata": {},
   "outputs": [
    {
     "data": {
      "text/plain": [
       "True"
      ]
     },
     "execution_count": 10,
     "metadata": {},
     "output_type": "execute_result"
    }
   ],
   "source": [
    "graph = tf.Graph()\n",
    "with graph.as_default():\n",
    "    x2 = tf.Variable(2)\n",
    "\n",
    "x2.graph is graph\n"
   ]
  },
  {
   "cell_type": "code",
   "execution_count": 11,
   "metadata": {},
   "outputs": [
    {
     "data": {
      "text/plain": [
       "False"
      ]
     },
     "execution_count": 11,
     "metadata": {},
     "output_type": "execute_result"
    }
   ],
   "source": [
    "x2.graph is tf.get_default_graph()"
   ]
  },
  {
   "cell_type": "code",
   "execution_count": 12,
   "metadata": {},
   "outputs": [],
   "source": [
    "# you can call tf.reset_default_graph() to reset the default graph\n",
    "# removing all nodes added to the original default graph\n",
    "tf.reset_default_graph()"
   ]
  },
  {
   "cell_type": "code",
   "execution_count": 13,
   "metadata": {},
   "outputs": [
    {
     "name": "stdout",
     "output_type": "stream",
     "text": [
      "10\n",
      "15\n"
     ]
    }
   ],
   "source": [
    "# 9.2 Lifecycle of a Node Value\n",
    "# When you evaluate a node, tensorflow will automatically decide the\n",
    "# nodes it depends on and evaluate those nodes first\n",
    "w = tf.constant(3)\n",
    "x = w + 2\n",
    "y = x + 5\n",
    "z = x * 3\n",
    "\n",
    "with tf.Session() as sess:\n",
    "    print(y.eval())\n",
    "    print(z.eval())"
   ]
  },
  {
   "cell_type": "code",
   "execution_count": 14,
   "metadata": {},
   "outputs": [
    {
     "name": "stdout",
     "output_type": "stream",
     "text": [
      "10\n",
      "15\n"
     ]
    }
   ],
   "source": [
    "# node values are dropped between graph runs,\n",
    "# only variable values are kept\n",
    "# a Variable starts its life when initializer is run and ends when session is closed\n",
    "# if you don't want to evaluate w and x twice, you must ask tf to evaluate both y\n",
    "# and z in just one graph run:\n",
    "\n",
    "with tf.Session() as sess:\n",
    "    y_val, z_val = sess.run([y, z])\n",
    "    print(y_val)\n",
    "    print(z_val)"
   ]
  },
  {
   "cell_type": "code",
   "execution_count": 15,
   "metadata": {},
   "outputs": [
    {
     "name": "stdout",
     "output_type": "stream",
     "text": [
      "20640 8\n"
     ]
    }
   ],
   "source": [
    "# 9.3 Linear Regression with Tensorflow\n",
    "# tensorflow operations can take any number of inputs and produce any number of outputs\n",
    "# multi-dimensional array inpout/outputs are called tensors\n",
    "# like numpy arrays, tensors have a shape and a type\n",
    "# in python api, tensors are simply represented by numpy ndarrays\n",
    "\n",
    "import numpy as np\n",
    "from sklearn.datasets import fetch_california_housing\n",
    "\n",
    "housing = fetch_california_housing()\n",
    "m, n = housing.data.shape\n",
    "print(m, n)"
   ]
  },
  {
   "cell_type": "code",
   "execution_count": 16,
   "metadata": {},
   "outputs": [
    {
     "name": "stdout",
     "output_type": "stream",
     "text": [
      "(20640, 9)\n"
     ]
    }
   ],
   "source": [
    "housing_data_plus_bias = np.c_[np.ones((m, 1)), housing.data]\n",
    "print(housing_data_plus_bias.shape)"
   ]
  },
  {
   "cell_type": "code",
   "execution_count": 17,
   "metadata": {},
   "outputs": [
    {
     "name": "stdout",
     "output_type": "stream",
     "text": [
      "[[-3.7185181e+01]\n",
      " [ 4.3633747e-01]\n",
      " [ 9.3952334e-03]\n",
      " [-1.0711310e-01]\n",
      " [ 6.4479220e-01]\n",
      " [-4.0338000e-06]\n",
      " [-3.7813708e-03]\n",
      " [-4.2348403e-01]\n",
      " [-4.3721911e-01]]\n"
     ]
    }
   ],
   "source": [
    "X = tf.constant(housing_data_plus_bias, dtype=tf.float32, name=\"X\")\n",
    "y = tf.constant(housing.target.reshape((-1, 1)), dtype=tf.float32, name=\"y\")\n",
    "XT = tf.transpose(X)\n",
    "theta = tf.matmul(tf.matmul(tf.matrix_inverse(tf.matmul(XT, X)), XT), y)\n",
    "\n",
    "with tf.Session() as sess:\n",
    "    print(theta.eval())"
   ]
  },
  {
   "cell_type": "code",
   "execution_count": 18,
   "metadata": {},
   "outputs": [],
   "source": [
    "# Tensorflow will automatically run this on your GPU card if you have one\n",
    "# and installed the GPU-version tensorflow"
   ]
  },
  {
   "cell_type": "code",
   "execution_count": 19,
   "metadata": {},
   "outputs": [
    {
     "data": {
      "text/plain": [
       "array([[ 1.        ,  2.34476576,  0.98214266, ..., -0.04959654,\n",
       "         1.05254828, -1.32783522],\n",
       "       [ 1.        ,  2.33223796, -0.60701891, ..., -0.09251223,\n",
       "         1.04318455, -1.32284391],\n",
       "       [ 1.        ,  1.7826994 ,  1.85618152, ..., -0.02584253,\n",
       "         1.03850269, -1.33282653],\n",
       "       ...,\n",
       "       [ 1.        , -1.14259331, -0.92485123, ..., -0.0717345 ,\n",
       "         1.77823747, -0.8237132 ],\n",
       "       [ 1.        , -1.05458292, -0.84539315, ..., -0.09122515,\n",
       "         1.77823747, -0.87362627],\n",
       "       [ 1.        , -0.78012947, -1.00430931, ..., -0.04368215,\n",
       "         1.75014627, -0.83369581]])"
      ]
     },
     "execution_count": 19,
     "metadata": {},
     "output_type": "execute_result"
    }
   ],
   "source": [
    "# 9.4 Implementing Gradienet Descent\n",
    "# Use tensorflow's autodiff feature to compute gradients automatically\n",
    "# Remember to normalize the values before doing gradient descent, otherwise the process\n",
    "# could be very slow, StandardScaler is a very handy tool\n",
    "\n",
    "# First, manually computing the gradient\n",
    "from sklearn.preprocessing import StandardScaler\n",
    "\n",
    "housing_data = housing.data \n",
    "\n",
    "# NOTE! don't include the biase 1 term when you do scaling\n",
    "scaler = StandardScaler()\n",
    "scaler.fit(housing_data)\n",
    "scaled_housing_data = scaler.transform(housing_data)\n",
    "scaled_housing_data_plus_bias = np.c_[np.ones((m, 1)), scaled_housing_data]\n",
    "scaled_housing_data_plus_bias"
   ]
  },
  {
   "cell_type": "code",
   "execution_count": 20,
   "metadata": {},
   "outputs": [
    {
     "name": "stdout",
     "output_type": "stream",
     "text": [
      "Epoch 0 MSE =  8.463472\n",
      "Epoch 100 MSE =  0.6564594\n",
      "Epoch 200 MSE =  0.56074\n",
      "Epoch 300 MSE =  0.5514607\n",
      "Epoch 400 MSE =  0.5454856\n",
      "Epoch 500 MSE =  0.5409267\n",
      "Epoch 600 MSE =  0.53741544\n",
      "Epoch 700 MSE =  0.5346962\n",
      "Epoch 800 MSE =  0.53258\n",
      "Epoch 900 MSE =  0.53092426\n",
      "[[ 2.0685523 ]\n",
      " [ 0.8801184 ]\n",
      " [ 0.142255  ]\n",
      " [-0.33468568]\n",
      " [ 0.35134014]\n",
      " [ 0.00339176]\n",
      " [-0.04239122]\n",
      " [-0.6811341 ]\n",
      " [-0.6563971 ]]\n"
     ]
    }
   ],
   "source": [
    "tf.reset_default_graph()\n",
    "\n",
    "n_epochs = 1000\n",
    "learning_rate = 0.01\n",
    "\n",
    "X = tf.constant(scaled_housing_data_plus_bias, dtype=tf.float32, name=\"X\")\n",
    "y = tf.constant(housing.target.reshape((-1, 1)), dtype=tf.float32, name=\"y\")\n",
    "\n",
    "theta = tf.Variable(tf.random_uniform([n + 1, 1], -1.0, 1.0), name=\"theta\")\n",
    "y_pred = tf.matmul(X, theta, name=\"predictions\")\n",
    "error = y_pred - y\n",
    "mse = tf.reduce_mean(tf.square(error), name=\"mse\")\n",
    "gradients = 2/m * tf.matmul(tf.transpose(X), error)\n",
    "training_op = tf.assign(theta, theta - learning_rate * gradients)\n",
    "\n",
    "init = tf.global_variables_initializer()\n",
    "\n",
    "with tf.Session() as sess:\n",
    "    sess.run(init)\n",
    "    \n",
    "    for epoch in range(n_epochs):\n",
    "        if epoch % 100 == 0:\n",
    "            print(\"Epoch\", epoch, \"MSE = \", mse.eval())\n",
    "        sess.run(training_op)\n",
    "\n",
    "    best_theta = theta.eval()\n",
    "    print(best_theta)"
   ]
  },
  {
   "cell_type": "code",
   "execution_count": 21,
   "metadata": {},
   "outputs": [
    {
     "name": "stdout",
     "output_type": "stream",
     "text": [
      "Epoch 0 MSE =  9.802762\n",
      "Epoch 100 MSE =  0.7400382\n",
      "Epoch 200 MSE =  0.5581155\n",
      "Epoch 300 MSE =  0.5447478\n",
      "Epoch 400 MSE =  0.5395431\n",
      "Epoch 500 MSE =  0.53591996\n",
      "Epoch 600 MSE =  0.5332178\n",
      "Epoch 700 MSE =  0.53118086\n",
      "Epoch 800 MSE =  0.5296383\n",
      "Epoch 900 MSE =  0.5284637\n",
      "[[ 2.0685525 ]\n",
      " [ 0.8575015 ]\n",
      " [ 0.13829707]\n",
      " [-0.29142457]\n",
      " [ 0.3153329 ]\n",
      " [ 0.00224446]\n",
      " [-0.04157392]\n",
      " [-0.73121136]\n",
      " [-0.70381624]]\n"
     ]
    }
   ],
   "source": [
    "# Using autodiff\n",
    "tf.reset_default_graph()\n",
    "\n",
    "n_epochs = 1000\n",
    "learning_rate = 0.01\n",
    "\n",
    "X = tf.constant(scaled_housing_data_plus_bias, dtype=tf.float32, name=\"X\")\n",
    "y = tf.constant(housing.target.reshape((-1, 1)), dtype=tf.float32, name=\"y\")\n",
    "\n",
    "theta = tf.Variable(tf.random_uniform([n + 1, 1], -1.0, 1.0), name=\"theta\")\n",
    "y_pred = tf.matmul(X, theta, name=\"predictions\")\n",
    "error = y_pred - y\n",
    "mse = tf.reduce_mean(tf.square(error), name=\"mse\")\n",
    "\n",
    "# The gradients function takes an op(in this casae mse) and a list of variables\n",
    "# in this case just theta , and it creates a list of ops to compute the gradients\n",
    "# of the op with regards to each variable\n",
    "gradients = tf.gradients(mse, [theta])[0]\n",
    "training_op = tf.assign(theta, theta - learning_rate * gradients)\n",
    "\n",
    "init = tf.global_variables_initializer()\n",
    "\n",
    "with tf.Session() as sess:\n",
    "    sess.run(init)\n",
    "    \n",
    "    for epoch in range(n_epochs):\n",
    "        if epoch % 100 == 0:\n",
    "            print(\"Epoch\", epoch, \"MSE = \", mse.eval())\n",
    "        sess.run(training_op)\n",
    "\n",
    "    best_theta = theta.eval()\n",
    "    print(best_theta)"
   ]
  },
  {
   "cell_type": "code",
   "execution_count": 22,
   "metadata": {},
   "outputs": [],
   "source": [
    "# tensorflow uses reverse-mode autodiff\n",
    "# good when there are many inputs and few outputs, as is often the case in\n",
    "# neural networks"
   ]
  },
  {
   "cell_type": "code",
   "execution_count": 23,
   "metadata": {},
   "outputs": [
    {
     "name": "stdout",
     "output_type": "stream",
     "text": [
      "Epoch 0 MSE =  8.578274\n",
      "Epoch 100 MSE =  0.6580695\n",
      "Epoch 200 MSE =  0.54854965\n",
      "Epoch 300 MSE =  0.54265535\n",
      "Epoch 400 MSE =  0.539316\n",
      "Epoch 500 MSE =  0.53663474\n",
      "Epoch 600 MSE =  0.53445137\n",
      "Epoch 700 MSE =  0.5326685\n",
      "Epoch 800 MSE =  0.531209\n",
      "Epoch 900 MSE =  0.5300116\n",
      "[[ 2.0685525e+00]\n",
      " [ 8.9665812e-01]\n",
      " [ 1.3707907e-01]\n",
      " [-3.8141617e-01]\n",
      " [ 3.9679003e-01]\n",
      " [ 1.2939022e-03]\n",
      " [-4.2305984e-02]\n",
      " [-7.0332998e-01]\n",
      " [-6.8126684e-01]]\n"
     ]
    }
   ],
   "source": [
    "# Using an optimizer\n",
    "# Using autodiff\n",
    "tf.reset_default_graph()\n",
    "\n",
    "n_epochs = 1000\n",
    "learning_rate = 0.01\n",
    "\n",
    "X = tf.constant(scaled_housing_data_plus_bias, dtype=tf.float32, name=\"X\")\n",
    "y = tf.constant(housing.target.reshape((-1, 1)), dtype=tf.float32, name=\"y\")\n",
    "\n",
    "theta = tf.Variable(tf.random_uniform([n + 1, 1], -1.0, 1.0), name=\"theta\")\n",
    "y_pred = tf.matmul(X, theta, name=\"predictions\")\n",
    "error = y_pred - y\n",
    "mse = tf.reduce_mean(tf.square(error), name=\"mse\")\n",
    "optimizer = tf.train.GradientDescentOptimizer(learning_rate=learning_rate)\n",
    "training_op = optimizer.minimize(mse)\n",
    "\n",
    "init = tf.global_variables_initializer()\n",
    "\n",
    "with tf.Session() as sess:\n",
    "    sess.run(init)\n",
    "    \n",
    "    for epoch in range(n_epochs):\n",
    "        if epoch % 100 == 0:\n",
    "            print(\"Epoch\", epoch, \"MSE = \", mse.eval())\n",
    "        sess.run(training_op)\n",
    "\n",
    "    best_theta = theta.eval()\n",
    "    print(best_theta)\n"
   ]
  },
  {
   "cell_type": "code",
   "execution_count": 24,
   "metadata": {},
   "outputs": [
    {
     "name": "stdout",
     "output_type": "stream",
     "text": [
      "Epoch 0 MSE =  4.317224\n",
      "Epoch 100 MSE =  0.52569693\n",
      "Epoch 200 MSE =  0.5244722\n",
      "Epoch 300 MSE =  0.52434045\n",
      "Epoch 400 MSE =  0.52432317\n",
      "Epoch 500 MSE =  0.52432126\n",
      "Epoch 600 MSE =  0.52432096\n",
      "Epoch 700 MSE =  0.52432084\n",
      "Epoch 800 MSE =  0.5243208\n",
      "Epoch 900 MSE =  0.524321\n",
      "[[ 2.0685577 ]\n",
      " [ 0.82962364]\n",
      " [ 0.11875248]\n",
      " [-0.26553544]\n",
      " [ 0.30570337]\n",
      " [-0.00450275]\n",
      " [-0.03932644]\n",
      " [-0.8998754 ]\n",
      " [-0.8705313 ]]\n"
     ]
    }
   ],
   "source": [
    "# Using momentum optimizer\n",
    "# Using autodiff\n",
    "tf.reset_default_graph()\n",
    "\n",
    "n_epochs = 1000\n",
    "learning_rate = 0.01\n",
    "\n",
    "X = tf.constant(scaled_housing_data_plus_bias, dtype=tf.float32, name=\"X\")\n",
    "y = tf.constant(housing.target.reshape((-1, 1)), dtype=tf.float32, name=\"y\")\n",
    "\n",
    "theta = tf.Variable(tf.random_uniform([n + 1, 1], -1.0, 1.0), name=\"theta\")\n",
    "y_pred = tf.matmul(X, theta, name=\"predictions\")\n",
    "error = y_pred - y\n",
    "mse = tf.reduce_mean(tf.square(error), name=\"mse\")\n",
    "optimizer = tf.train.MomentumOptimizer(learning_rate=learning_rate, momentum=0.9)\n",
    "training_op = optimizer.minimize(mse)\n",
    "\n",
    "init = tf.global_variables_initializer()\n",
    "\n",
    "with tf.Session() as sess:\n",
    "    sess.run(init)\n",
    "    \n",
    "    for epoch in range(n_epochs):\n",
    "        if epoch % 100 == 0:\n",
    "            print(\"Epoch\", epoch, \"MSE = \", mse.eval())\n",
    "        sess.run(training_op)\n",
    "\n",
    "    best_theta = theta.eval()\n",
    "    print(best_theta)\n"
   ]
  },
  {
   "cell_type": "code",
   "execution_count": 25,
   "metadata": {},
   "outputs": [
    {
     "name": "stdout",
     "output_type": "stream",
     "text": [
      "[[6. 7. 8.]]\n",
      "[[ 6.  7.  8.]\n",
      " [ 9. 10. 11.]]\n"
     ]
    }
   ],
   "source": [
    "# 9.5 Feeding data to the Training Algorithm\n",
    "\n",
    "# modify the code to use mini-batch \n",
    "# each iteration use the next mini-batch\n",
    "# best way to do this is to use placeholder nodes\n",
    "\n",
    "# placeholder nodes only output data, it does no computation\n",
    "A = tf.placeholder(tf.float32, shape=(None, 3))\n",
    "B = A + 5\n",
    "\n",
    "# feed_dict specifies the value of A\n",
    "with tf.Session() as sess:\n",
    "    B_val_1 = B.eval(feed_dict={A: [[1, 2, 3]]})\n",
    "    B_val_2 = B.eval(feed_dict={A: [[1, 2, 3], [4, 5, 6]]})\n",
    "    \n",
    "    print(B_val_1)\n",
    "    print(B_val_2)"
   ]
  },
  {
   "cell_type": "code",
   "execution_count": 26,
   "metadata": {},
   "outputs": [
    {
     "name": "stdout",
     "output_type": "stream",
     "text": [
      "[[ 2.002909  ]\n",
      " [ 0.7834712 ]\n",
      " [ 0.13612014]\n",
      " [-0.23013695]\n",
      " [ 0.27156723]\n",
      " [-0.00706379]\n",
      " [-0.0132116 ]\n",
      " [-0.86901027]\n",
      " [-0.89599955]]\n"
     ]
    }
   ],
   "source": [
    "# Using autodiff\n",
    "tf.reset_default_graph()\n",
    "\n",
    "n_epochs = 1000\n",
    "learning_rate = 0.01\n",
    "\n",
    "# Define the batch size and #batches\n",
    "batch_size = 100\n",
    "n_batches = int(np.ceil(m / batch_size))\n",
    "\n",
    "X = tf.placeholder(tf.float32, shape=(None, n + 1), name=\"X\")\n",
    "y = tf.placeholder(tf.float32, shape=(None, 1), name=\"y\")\n",
    "\n",
    "def fetch_batch(epoch, batch_index, batch_size):\n",
    "    start = batch_index * batch_size\n",
    "    end = min(m, start + batch_size)\n",
    "    X_batch, Y_batch = scaled_housing_data_plus_bias[start:end, :], housing.target.reshape((-1, 1))[start:end, :]\n",
    "    return X_batch, Y_batch\n",
    "\n",
    "def random_fetch_batch(epoch, batch_index, batch_size):\n",
    "    np.random.seed(epoch * n_batches + batch_index)  # not shown in the book\n",
    "    indices = np.random.randint(m, size=batch_size)  # not shown\n",
    "    X_batch = scaled_housing_data_plus_bias[indices] # not shown\n",
    "    y_batch = housing.target.reshape(-1, 1)[indices] # not shown\n",
    "    return X_batch, y_batch\n",
    "\n",
    "\n",
    "theta = tf.Variable(tf.random_uniform([n + 1, 1], -1.0, 1.0), name=\"theta\")\n",
    "y_pred = tf.matmul(X, theta, name=\"predictions\")\n",
    "error = y_pred - y\n",
    "mse = tf.reduce_mean(tf.square(error), name=\"mse\")\n",
    "optimizer = tf.train.GradientDescentOptimizer(learning_rate=learning_rate)\n",
    "training_op = optimizer.minimize(mse)\n",
    "\n",
    "init = tf.global_variables_initializer()\n",
    "\n",
    "with tf.Session() as sess:\n",
    "    sess.run(init)\n",
    "    \n",
    "    for epoch in range(n_epochs):\n",
    "        #if epoch % 100 == 0:\n",
    "        #    print(\"Epoch\", epoch, \"MSE = \", mse.eval())\n",
    "            \n",
    "        for batch_index in range(n_batches):\n",
    "            X_batch, Y_batch = fetch_batch(epoch, batch_index, batch_size)\n",
    "            sess.run(training_op, feed_dict={X: X_batch, y: Y_batch})\n",
    "\n",
    "    best_theta = theta.eval()\n",
    "    print(best_theta)\n"
   ]
  },
  {
   "cell_type": "code",
   "execution_count": 27,
   "metadata": {},
   "outputs": [
    {
     "name": "stdout",
     "output_type": "stream",
     "text": [
      "[[ 2.002909  ]\n",
      " [ 0.7834715 ]\n",
      " [ 0.13612019]\n",
      " [-0.23013733]\n",
      " [ 0.27156752]\n",
      " [-0.00706378]\n",
      " [-0.01321162]\n",
      " [-0.8690099 ]\n",
      " [-0.89599925]]\n"
     ]
    }
   ],
   "source": [
    "# 9.6 Saving and Restoring Models\n",
    "# Construct a saver node after all variables\n",
    "# are created\n",
    "# then call save() during execution phase\n",
    "# Using autodiff\n",
    "tf.reset_default_graph()\n",
    "\n",
    "n_epochs = 1000\n",
    "learning_rate = 0.01\n",
    "\n",
    "# Define the batch size and #batches\n",
    "batch_size = 100\n",
    "n_batches = int(np.ceil(m / batch_size))\n",
    "\n",
    "X = tf.placeholder(tf.float32, shape=(None, n + 1), name=\"X\")\n",
    "y = tf.placeholder(tf.float32, shape=(None, 1), name=\"y\")\n",
    "\n",
    "def fetch_batch(epoch, batch_index, batch_size):\n",
    "    start = batch_index * batch_size\n",
    "    end = min(m, start + batch_size)\n",
    "    X_batch, Y_batch = scaled_housing_data_plus_bias[start:end, :], housing.target.reshape((-1, 1))[start:end, :]\n",
    "    return X_batch, Y_batch\n",
    "\n",
    "def random_fetch_batch(epoch, batch_index, batch_size):\n",
    "    np.random.seed(epoch * n_batches + batch_index)  # not shown in the book\n",
    "    indices = np.random.randint(m, size=batch_size)  # not shown\n",
    "    X_batch = scaled_housing_data_plus_bias[indices] # not shown\n",
    "    y_batch = housing.target.reshape(-1, 1)[indices] # not shown\n",
    "    return X_batch, y_batch\n",
    "\n",
    "\n",
    "theta = tf.Variable(tf.random_uniform([n + 1, 1], -1.0, 1.0), name=\"theta\")\n",
    "y_pred = tf.matmul(X, theta, name=\"predictions\")\n",
    "error = y_pred - y\n",
    "mse = tf.reduce_mean(tf.square(error), name=\"mse\")\n",
    "optimizer = tf.train.GradientDescentOptimizer(learning_rate=learning_rate)\n",
    "training_op = optimizer.minimize(mse)\n",
    "\n",
    "init = tf.global_variables_initializer()\n",
    "saver = tf.train.Saver()\n",
    "\n",
    "with tf.Session() as sess:\n",
    "    sess.run(init)\n",
    "    \n",
    "    for epoch in range(n_epochs):\n",
    "        if epoch % 100 == 0:\n",
    "            save_path = saver.save(sess, '/tmp/my_model.ckpt')\n",
    "            \n",
    "        for batch_index in range(n_batches):\n",
    "            X_batch, Y_batch = fetch_batch(epoch, batch_index, batch_size)\n",
    "            sess.run(training_op, feed_dict={X: X_batch, y: Y_batch})\n",
    "        \n",
    "        \n",
    "    best_theta = theta.eval()\n",
    "    print(best_theta)\n",
    "    save_path = saver.save(sess, '/tmp/my_model_final.ckpt')\n"
   ]
  },
  {
   "cell_type": "code",
   "execution_count": 28,
   "metadata": {},
   "outputs": [],
   "source": [
    "# restore a session is easy:\n",
    "# saver.restore(sess, ...)\n"
   ]
  },
  {
   "cell_type": "code",
   "execution_count": 30,
   "metadata": {},
   "outputs": [
    {
     "name": "stdout",
     "output_type": "stream",
     "text": [
      "[[ 2.002909  ]\n",
      " [ 0.7834715 ]\n",
      " [ 0.13612019]\n",
      " [-0.23013733]\n",
      " [ 0.27156752]\n",
      " [-0.00706378]\n",
      " [-0.01321162]\n",
      " [-0.8690099 ]\n",
      " [-0.89599925]]\n"
     ]
    }
   ],
   "source": [
    "# 9.7 Visualizing with tensorboard\n",
    "# Using autodiff\n",
    "from datetime import datetime\n",
    "import tensorflow as tf\n",
    "import numpy as np\n",
    "\n",
    "now = datetime.utcnow().strftime(\"%Y%m%d%H%M%S\")\n",
    "root_logdir = \"tf_logs\"\n",
    "logdir = \"{}/run-{}/\".format(root_logdir, now)\n",
    "\n",
    "tf.reset_default_graph()\n",
    "\n",
    "n_epochs = 1000\n",
    "learning_rate = 0.01\n",
    "\n",
    "# Define the batch size and #batches\n",
    "batch_size = 100\n",
    "n_batches = int(np.ceil(m / batch_size))\n",
    "\n",
    "X = tf.placeholder(tf.float32, shape=(None, n + 1), name=\"X\")\n",
    "y = tf.placeholder(tf.float32, shape=(None, 1), name=\"y\")\n",
    "\n",
    "def fetch_batch(epoch, batch_index, batch_size):\n",
    "    start = batch_index * batch_size\n",
    "    end = min(m, start + batch_size)\n",
    "    X_batch, Y_batch = scaled_housing_data_plus_bias[start:end, :], housing.target.reshape((-1, 1))[start:end, :]\n",
    "    return X_batch, Y_batch\n",
    "\n",
    "theta = tf.Variable(tf.random_uniform([n + 1, 1], -1.0, 1.0), name=\"theta\")\n",
    "y_pred = tf.matmul(X, theta, name=\"predictions\")\n",
    "error = y_pred - y\n",
    "mse = tf.reduce_mean(tf.square(error), name=\"mse\")\n",
    "optimizer = tf.train.GradientDescentOptimizer(learning_rate=learning_rate)\n",
    "training_op = optimizer.minimize(mse)\n",
    "\n",
    "init = tf.global_variables_initializer()\n",
    "\n",
    "# Create a node that will evaluate MSE value and write it to\n",
    "# a TensorBoard-compatible binary log string called summary\n",
    "mse_summary = tf.summary.scalar('MSE', mse)\n",
    "\n",
    "# Creates a file writer used to write summaries to log files\n",
    "file_writer = tf.summary.FileWriter(logdir, tf.get_default_graph())\n",
    "\n",
    "with tf.Session() as sess:\n",
    "    sess.run(init)\n",
    "    \n",
    "    for epoch in range(n_epochs):\n",
    "        #if epoch % 100 == 0:\n",
    "        #    print(\"Epoch\", epoch, \"MSE = \", mse.eval())\n",
    "            \n",
    "        for batch_index in range(n_batches):\n",
    "            X_batch, Y_batch = fetch_batch(epoch, batch_index, batch_size)\n",
    "            if batch_index % 10 == 0:\n",
    "                summary_str = mse_summary.eval(feed_dict={X:X_batch, y:Y_batch})\n",
    "                step = epoch * n_batches + batch_index\n",
    "                file_writer.add_summary(summary_str, step)\n",
    "                \n",
    "            sess.run(training_op, feed_dict={X: X_batch, y: Y_batch})\n",
    "\n",
    "    best_theta = theta.eval()\n",
    "    print(best_theta)\n",
    "    file_writer.close()\n",
    "\n"
   ]
  },
  {
   "cell_type": "code",
   "execution_count": 31,
   "metadata": {},
   "outputs": [
    {
     "name": "stdout",
     "output_type": "stream",
     "text": [
      "loss/sub\n",
      "loss/mse\n"
     ]
    }
   ],
   "source": [
    "# 9.8 Name Scopes\n",
    "with tf.name_scope(\"loss\") as scope:\n",
    "    error = y_pred - y\n",
    "    mse = tf.reduce_mean(tf.square(error), name=\"mse\")\n",
    "\n",
    "print(error.op.name)\n",
    "print(mse.op.name)"
   ]
  },
  {
   "cell_type": "code",
   "execution_count": 39,
   "metadata": {},
   "outputs": [
    {
     "name": "stdout",
     "output_type": "stream",
     "text": [
      "[[13.446552]]\n"
     ]
    }
   ],
   "source": [
    "# Modularity\n",
    "\n",
    "# Tensorflow will check if the name already exists\n",
    "# If so, it will append _1 _2 to differentiate the names\n",
    "# So the names will be relu relu_1 relu_2...\n",
    "# But the code is clearer as we encapsulated the relu unit's creation\n",
    "\n",
    "def relu(X):\n",
    "    w_shape = (int(X.get_shape()[1]), 1)\n",
    "    w = tf.Variable(tf.random_normal(w_shape), name=\"weights\")\n",
    "    b = tf.Variable(0.0, name=\"bias\")\n",
    "    z = tf.add(tf.matmul(X, w), b, name=\"z\")\n",
    "    return tf.maximum(z, 0., name=\"relu\")\n",
    "\n",
    "n_features = 3\n",
    "X = tf.placeholder(tf.float32, shape=(None, n_features), name=\"X\")\n",
    "relus = [relu(X) for i in range(5)]\n",
    "output = tf.add_n(relus, name=\"output\")\n",
    "\n",
    "init = tf.global_variables_initializer()\n",
    "\n",
    "with tf.Session() as sess:\n",
    "    sess.run(init)\n",
    "    X_feed = np.array([1, 2, 3], dtype=np.float32).reshape((-1, 3))\n",
    "    result = output.eval(feed_dict={X:X_feed})\n",
    "    print(result)"
   ]
  },
  {
   "cell_type": "code",
   "execution_count": 43,
   "metadata": {},
   "outputs": [
    {
     "name": "stdout",
     "output_type": "stream",
     "text": [
      "[[3.0104785]]\n"
     ]
    }
   ],
   "source": [
    "# Share variables\n",
    "# you could create a variable and pass it around as parameters for\n",
    "# others to use, but it will be difficult if there are too many such variables\n",
    "# use get_variable() function to create the shared variable if it does not exist yet\n",
    "# or reuse it if it already exists\n",
    "# The creating and reusing is controlled by the current variable_scope\n",
    "    \n",
    "def relu(X):\n",
    "    with tf.variable_scope(\"relu\") as scope:\n",
    "        scope.reuse_variables() \n",
    "        # Same as set reuse=True in variable_scope() call\n",
    "        # once it is set to true, it cannot be set back to False in this scope\n",
    "        # Only variables created by get_variables can be reused this way\n",
    "        threshold = tf.get_variable(\"threshold\")\n",
    "        w_shape = (int(X.get_shape()[1]), 1)\n",
    "        w = tf.Variable(tf.random_normal(w_shape), name=\"weights\")\n",
    "        b = tf.Variable(0.0, name=\"bias\")\n",
    "        z = tf.add(tf.matmul(X, w), b, name=\"z\")\n",
    "        return tf.maximum(z, threshold, name=\"relu\")\n",
    "\n",
    "n_features = 3\n",
    "X = tf.placeholder(tf.float32, shape=(None, n_features), name=\"X\")\n",
    "\n",
    "# Create the threshold variable\n",
    "with tf.variable_scope(\"relu\", reuse=True):\n",
    "    threshold = tf.get_variable(\"threshold\", shape=(),\n",
    "                                initializer=tf.constant_initializer(0.0))\n",
    "\n",
    "# the five relus reused the same relu/threshold variable\n",
    "relus = [relu(X) for i in range(5)]\n",
    "output = tf.add_n(relus, name=\"output\")\n",
    "\n",
    "init = tf.global_variables_initializer()\n",
    "\n",
    "with tf.Session() as sess:\n",
    "    sess.run(init)\n",
    "    X_feed = np.array([1, 2, 3], dtype=np.float32).reshape((-1, 3))\n",
    "    result = output.eval(feed_dict={X:X_feed})\n",
    "    print(result)\n"
   ]
  },
  {
   "cell_type": "code",
   "execution_count": null,
   "metadata": {},
   "outputs": [],
   "source": [
    "# Variables created from get_variable() will have variable_scope name\n",
    "# appended before it\n",
    "# but for all other variables, the variable_scope will act like a name_scope\n",
    "# and _index will be appended"
   ]
  }
 ],
 "metadata": {
  "kernelspec": {
   "display_name": "Python 3",
   "language": "python",
   "name": "python3"
  },
  "language_info": {
   "codemirror_mode": {
    "name": "ipython",
    "version": 3
   },
   "file_extension": ".py",
   "mimetype": "text/x-python",
   "name": "python",
   "nbconvert_exporter": "python",
   "pygments_lexer": "ipython3",
   "version": "3.6.3"
  }
 },
 "nbformat": 4,
 "nbformat_minor": 2
}
