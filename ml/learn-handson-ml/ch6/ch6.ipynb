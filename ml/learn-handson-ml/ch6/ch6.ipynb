{
 "cells": [
  {
   "cell_type": "code",
   "execution_count": 1,
   "metadata": {},
   "outputs": [],
   "source": [
    "### Ch6 Decision Trees"
   ]
  },
  {
   "cell_type": "code",
   "execution_count": 2,
   "metadata": {},
   "outputs": [
    {
     "data": {
      "text/plain": [
       "DecisionTreeClassifier(class_weight=None, criterion='gini', max_depth=2,\n",
       "            max_features=None, max_leaf_nodes=None,\n",
       "            min_impurity_decrease=0.0, min_impurity_split=None,\n",
       "            min_samples_leaf=1, min_samples_split=2,\n",
       "            min_weight_fraction_leaf=0.0, presort=False, random_state=None,\n",
       "            splitter='best')"
      ]
     },
     "execution_count": 2,
     "metadata": {},
     "output_type": "execute_result"
    }
   ],
   "source": [
    "from sklearn.datasets import load_iris\n",
    "from sklearn.tree import DecisionTreeClassifier\n",
    "\n",
    "iris = load_iris()\n",
    "X = iris.data[:, 2:]\n",
    "y = iris.target\n",
    "\n",
    "tree_clf = DecisionTreeClassifier(max_depth=2)\n",
    "tree_clf.fit(X, y)\n"
   ]
  },
  {
   "cell_type": "code",
   "execution_count": 3,
   "metadata": {},
   "outputs": [
    {
     "data": {
      "text/plain": [
       "array([[0.        , 0.90740741, 0.09259259]])"
      ]
     },
     "execution_count": 3,
     "metadata": {},
     "output_type": "execute_result"
    }
   ],
   "source": [
    "# A decision tree can also predict probability of a instance belonging to a class\n",
    "tree_clf.predict_proba([[5, 1.5]])\n"
   ]
  },
  {
   "cell_type": "code",
   "execution_count": 1,
   "metadata": {},
   "outputs": [],
   "source": [
    "# CART algorithm\n",
    "# Like C4.5 can handle continuous variable (Search the split points), and calculate gini gain\n",
    "# CART uses GINI as a measure of whether the attribute is good\n",
    "# CART split data into two subsets in every iteration\n",
    "# Finding an optimal Decision tree is NP-Complete problem\n",
    "# Decision Trees are nonparametric models because their model parameters are not determined\n",
    "# before training\n",
    "# To prevent overfitting, you need to determine freedom of a decision tree. e.g. max depth of the tree\n",
    "# other parameters like min_samples_split \n",
    "# Another method is to use pruning (remove unnecessary nodes) using hypothesis testing and other techniques"
   ]
  },
  {
   "cell_type": "code",
   "execution_count": 2,
   "metadata": {},
   "outputs": [],
   "source": [
    "# Decision trees can also do regression\n",
    "# regression result is average target value on the leaf node you reached with your test instance\n",
    "# In training, instead of minimizing impurity (entropy), the algorithm for regression will try to\n",
    "# minimizing MSE (averages), the intuition is to split instances and make instances close with each other in the same subset\n",
    "# You should usually set min_sample_leaf value to prevent overfitting"
   ]
  },
  {
   "cell_type": "code",
   "execution_count": null,
   "metadata": {},
   "outputs": [],
   "source": [
    "# Decision trees are easily influenced by rotated data (Use PCA to reduce dimension)\n",
    "# and are sensitive to small changes to training set\n",
    "# so decision trees are instable\n",
    "# One solution is to average this instability over many trees (ensemble methods)"
   ]
  }
 ],
 "metadata": {
  "kernelspec": {
   "display_name": "Python 3",
   "language": "python",
   "name": "python3"
  },
  "language_info": {
   "codemirror_mode": {
    "name": "ipython",
    "version": 3
   },
   "file_extension": ".py",
   "mimetype": "text/x-python",
   "name": "python",
   "nbconvert_exporter": "python",
   "pygments_lexer": "ipython3",
   "version": "3.5.0"
  }
 },
 "nbformat": 4,
 "nbformat_minor": 2
}
